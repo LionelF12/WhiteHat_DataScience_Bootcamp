{
 "cells": [
  {
   "cell_type": "code",
   "execution_count": 1,
   "id": "f17cc011-e894-47b1-8dca-c48dcb3df1c5",
   "metadata": {
    "tags": []
   },
   "outputs": [
    {
     "name": "stdout",
     "output_type": "stream",
     "text": [
      "hello world\n"
     ]
    }
   ],
   "source": [
    "print('hello world')"
   ]
  },
  {
   "cell_type": "code",
   "execution_count": 2,
   "id": "546988ce-24a6-488d-b285-935045f66bc1",
   "metadata": {},
   "outputs": [
    {
     "data": {
      "text/plain": [
       "5"
      ]
     },
     "execution_count": 2,
     "metadata": {},
     "output_type": "execute_result"
    }
   ],
   "source": [
    "2+3"
   ]
  },
  {
   "cell_type": "code",
   "execution_count": 6,
   "id": "c200e784-72f2-4a20-ab7d-965fa232bb2b",
   "metadata": {},
   "outputs": [
    {
     "data": {
      "text/plain": [
       "True"
      ]
     },
     "execution_count": 6,
     "metadata": {},
     "output_type": "execute_result"
    }
   ],
   "source": [
    "string = 'abcdef,'\n",
    "def has_unique_chars(string):\n",
    "    log = dict()\n",
    "    for char in string:\n",
    "        log[char] = log.get(char,0) + 1\n",
    "        if log[char] > 1:\n",
    "            return False\n",
    "    return True\n",
    "\n",
    "has_unique_chars(string)"
   ]
  },
  {
   "cell_type": "code",
   "execution_count": null,
   "id": "106bfdee-be81-4076-baef-e3f19a917a49",
   "metadata": {},
   "outputs": [],
   "source": []
  }
 ],
 "metadata": {
  "kernelspec": {
   "display_name": "Python 3.8.8 64-bit ('anaconda3': virtualenv)",
   "name": "python388jvsc74a57bd052caf41152e5f1455383f92c2afbd2e95746364eed6813251acdd60be1942b84"
  },
  "language_info": {
   "codemirror_mode": {
    "name": "ipython",
    "version": 3
   },
   "file_extension": ".py",
   "mimetype": "text/x-python",
   "name": "python",
   "nbconvert_exporter": "python",
   "pygments_lexer": "ipython3",
   "version": "3.8.8"
  },
  "metadata": {
   "interpreter": {
    "hash": "52caf41152e5f1455383f92c2afbd2e95746364eed6813251acdd60be1942b84"
   }
  }
 },
 "nbformat": 4,
 "nbformat_minor": 5
}
