{
 "cells": [
  {
   "cell_type": "code",
   "execution_count": 1,
   "id": "f17cc011-e894-47b1-8dca-c48dcb3df1c5",
   "metadata": {},
   "outputs": [
    {
     "output_type": "stream",
     "name": "stdout",
     "text": [
      "hello world\n"
     ]
    }
   ],
   "source": [
    "print('hello world')"
   ]
  },
  {
   "cell_type": "code",
   "execution_count": 2,
   "id": "546988ce-24a6-488d-b285-935045f66bc1",
   "metadata": {},
   "outputs": [
    {
     "output_type": "execute_result",
     "data": {
      "text/plain": [
       "5"
      ]
     },
     "metadata": {},
     "execution_count": 2
    }
   ],
   "source": [
    "2+3"
   ]
  },
  {
   "cell_type": "code",
   "execution_count": null,
   "id": "c200e784-72f2-4a20-ab7d-965fa232bb2b",
   "metadata": {},
   "outputs": [],
   "source": []
  }
 ],
 "metadata": {
  "kernelspec": {
   "name": "python388jvsc74a57bd052caf41152e5f1455383f92c2afbd2e95746364eed6813251acdd60be1942b84",
   "display_name": "Python 3.8.8 64-bit ('anaconda3': virtualenv)"
  },
  "language_info": {
   "codemirror_mode": {
    "name": "ipython",
    "version": 3
   },
   "file_extension": ".py",
   "mimetype": "text/x-python",
   "name": "python",
   "nbconvert_exporter": "python",
   "pygments_lexer": "ipython3",
   "version": "3.8.8"
  },
  "metadata": {
   "interpreter": {
    "hash": "52caf41152e5f1455383f92c2afbd2e95746364eed6813251acdd60be1942b84"
   }
  }
 },
 "nbformat": 4,
 "nbformat_minor": 5
}